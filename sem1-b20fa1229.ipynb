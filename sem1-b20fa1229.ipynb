{
 "cells": [
  {
   "cell_type": "code",
   "execution_count": 2,
   "id": "ff2f459b",
   "metadata": {},
   "outputs": [
    {
     "name": "stdout",
     "output_type": "stream",
     "text": [
      "python\n",
      "php\n",
      "java\n"
     ]
    }
   ],
   "source": [
    "#1\n",
    "list=['python','php','java']\n",
    "for i in list:\n",
    "    print(i)"
   ]
  },
  {
   "cell_type": "code",
   "execution_count": 5,
   "id": "b3ce3d4d",
   "metadata": {},
   "outputs": [
    {
     "name": "stdout",
     "output_type": "stream",
     "text": [
      "Sum of elements of list is 200\n"
     ]
    }
   ],
   "source": [
    "#2\n",
    "num_list = [1, 5, 4, 45, 12, 15, 22, 35, 55, 6]\n",
    "total = 0\n",
    "for num in num_list:\n",
    "    total = total + num\n",
    "print(\"Sum of elements of list is\", total)"
   ]
  },
  {
   "cell_type": "code",
   "execution_count": 6,
   "id": "8bff061a",
   "metadata": {},
   "outputs": [
    {
     "name": "stdout",
     "output_type": "stream",
     "text": [
      "120\n"
     ]
    }
   ],
   "source": [
    "#3\n",
    "def multiplyList(myList) :\n",
    "     \n",
    "    \n",
    "    result = 1\n",
    "    for x in myList:\n",
    "         result = result * x\n",
    "    return result\n",
    "     \n",
    "\n",
    "list = [1, 2, 3, 4, 5]\n",
    "\n",
    "print(multiplyList(list))"
   ]
  },
  {
   "cell_type": "code",
   "execution_count": 13,
   "id": "a1c2d920",
   "metadata": {},
   "outputs": [
    {
     "data": {
      "text/plain": [
       "20"
      ]
     },
     "execution_count": 13,
     "metadata": {},
     "output_type": "execute_result"
    }
   ],
   "source": [
    "#4\n",
    "def f(x):\n",
    "    y=x[3]*x[-1]\n",
    "    return y\n",
    "x=[1, 2, 3, 4, 5]\n",
    "f(x)"
   ]
  },
  {
   "cell_type": "code",
   "execution_count": 14,
   "id": "d695713e",
   "metadata": {},
   "outputs": [
    {
     "name": "stdout",
     "output_type": "stream",
     "text": [
      "Maximum of the list 77\n",
      "Minimum of the list 2\n"
     ]
    }
   ],
   "source": [
    "#5\n",
    "def max_check(x):\n",
    "  max_val = x[0] \n",
    "  for check in x: \n",
    "    if check > max_val: \n",
    "      max_val = check \n",
    "  return max_val\n",
    "\n",
    "\n",
    "def min_check(x):\n",
    "  min_val = x[0] \n",
    "  for check in x: \n",
    "    if check < min_val: \n",
    "      min_val = check \n",
    "  return min_val\n",
    "\n",
    "\n",
    "my_list = [2, 6, 8, 14, 3, 77, 63]\n",
    "\n",
    "  \n",
    "\n",
    "print(\"Maximum of the list\", max_check(my_list))\n",
    "print(\"Minimum of the list\", min_check(my_list))"
   ]
  },
  {
   "cell_type": "code",
   "execution_count": 15,
   "id": "a71a1728",
   "metadata": {},
   "outputs": [
    {
     "name": "stdout",
     "output_type": "stream",
     "text": [
      "the given words are: aba\n",
      "the given words are: 121\n",
      "no. of words you want: 2\n"
     ]
    }
   ],
   "source": [
    "#6\n",
    "s=0\n",
    "list1=['aba', '121', 'kgf', 'abc']\n",
    "for x in list1:\n",
    "    if len(x)>1 and x[0]==x[-1]:\n",
    "        print(\"the given words are:\",x)\n",
    "        s=s+1\n",
    "print(\"no. of words you want:\",s)        "
   ]
  },
  {
   "cell_type": "code",
   "execution_count": 18,
   "id": "f0e97120",
   "metadata": {},
   "outputs": [
    {
     "name": "stdout",
     "output_type": "stream",
     "text": [
      "[1, 2, 4, 6, 3, 8, 7, 8995, 9, 56]\n"
     ]
    }
   ],
   "source": [
    "#7\n",
    "list1=[1, 2, 4, 6, 3,6,8,4,7,4,8995,7,9,56]\n",
    "result=[]\n",
    "for i in list1:\n",
    "    if i not in result:\n",
    "        result. append(i)\n",
    "print(result)        "
   ]
  },
  {
   "cell_type": "code",
   "execution_count": 24,
   "id": "822013ef",
   "metadata": {},
   "outputs": [
    {
     "name": "stdout",
     "output_type": "stream",
     "text": [
      "list is empty\n"
     ]
    }
   ],
   "source": [
    "#8\n",
    "l1 = [\"Hire\", \"the\", \"top\", \"1%\", \"freelancers\"]\n",
    "\n",
    "l2 = []\n",
    "\n",
    "if len(l2) == 0:\n",
    "    print(\"list is empty\")\n",
    "else:\n",
    "    print(\"list is not empty\")\n",
    "\n"
   ]
  },
  {
   "cell_type": "code",
   "execution_count": 26,
   "id": "a3d681e8",
   "metadata": {},
   "outputs": [
    {
     "name": "stdout",
     "output_type": "stream",
     "text": [
      "['Red', 'Green', 'White', 'Black', 'Yellow', 'Orange', 'Brown']\n"
     ]
    }
   ],
   "source": [
    "#9\n",
    "color = ['Red', 'Green', 'White', 'Black', 'Pink', 'Yellow','Blue', 'Orange','Gray','Brown']\n",
    "color = [x for (i,x) in enumerate(color) if i not in (4,6,8)]\n",
    "print(color)"
   ]
  },
  {
   "cell_type": "code",
   "execution_count": 27,
   "id": "f0eed93f",
   "metadata": {},
   "outputs": [
    {
     "name": "stdout",
     "output_type": "stream",
     "text": [
      "Tuple Items =  (10, 20, 40, 60, 80, 100)\n"
     ]
    }
   ],
   "source": [
    "#10\n",
    "numTuple = (10, 20, 40, 60, 80, 100)\n",
    "print(\"Tuple Items = \", numTuple)"
   ]
  },
  {
   "cell_type": "code",
   "execution_count": 28,
   "id": "ffcf2b8e",
   "metadata": {},
   "outputs": [
    {
     "name": "stdout",
     "output_type": "stream",
     "text": [
      "(4, 6, 2, 8, 3, 1)\n",
      "(4, 6, 2, 8, 3, 1, 9)\n"
     ]
    }
   ],
   "source": [
    "#11\n",
    "tuplex = (4, 6, 2, 8, 3, 1) \n",
    "print(tuplex)\n",
    "tuplex = tuplex + (9,)\n",
    "print(tuplex)"
   ]
  },
  {
   "cell_type": "code",
   "execution_count": 33,
   "id": "0d8da6f9",
   "metadata": {},
   "outputs": [
    {
     "name": "stdout",
     "output_type": "stream",
     "text": [
      "40\n",
      "80\n"
     ]
    }
   ],
   "source": [
    "#12\n",
    "numTuple = (10, 20, 40, 60, 80, 100)\n",
    "print(numTuple[2])\n",
    "print(numTuple[-2])"
   ]
  },
  {
   "cell_type": "code",
   "execution_count": 34,
   "id": "93915392",
   "metadata": {},
   "outputs": [
    {
     "name": "stdout",
     "output_type": "stream",
     "text": [
      "The original tuple : (10, 4, 5, 6, None)\n",
      "Does tuple contain any None value ? : True\n"
     ]
    }
   ],
   "source": [
    "#13\n",
    "test_tup = (10, 4, 5, 6, None)\n",
    "  \n",
    "\n",
    "print(\"The original tuple : \" + str(test_tup))\n",
    "\n",
    "res = any(map(lambda ele: ele is None, test_tup))\n",
    "  \n",
    "\n",
    "print(\"Does tuple contain any None value ? : \" + str(res))"
   ]
  },
  {
   "cell_type": "code",
   "execution_count": 35,
   "id": "e6e45f3f",
   "metadata": {},
   "outputs": [
    {
     "name": "stdout",
     "output_type": "stream",
     "text": [
      "sravan\n",
      "7058\n",
      "98.45\n",
      "\n",
      "ojaswi\n",
      "7059\n",
      "90.67\n",
      "\n",
      "bobby\n",
      "7060\n",
      "78.9\n",
      "\n",
      "rohith\n",
      "7081\n",
      "67.89\n",
      "\n",
      "gnanesh\n",
      "7084\n",
      "98.01\n",
      "\n"
     ]
    }
   ],
   "source": [
    "#14\n",
    "name = [('sravan',7058,98.45),\n",
    "        ('ojaswi',7059,90.67),\n",
    "        ('bobby',7060,78.90),\n",
    "        ('rohith',7081,67.89),\n",
    "        ('gnanesh',7084,98.01)]\n",
    " \n",
    "\n",
    "for x in name:\n",
    "   \n",
    " \n",
    "  for y in x:\n",
    "      print(y)\n",
    "       \n",
    "  print()"
   ]
  },
  {
   "cell_type": "code",
   "execution_count": 36,
   "id": "4e961ad8",
   "metadata": {},
   "outputs": [
    {
     "name": "stdout",
     "output_type": "stream",
     "text": [
      "{1, 2, 3, 'a', 'b', 'c'}\n"
     ]
    }
   ],
   "source": [
    "#15\n",
    "set1 = {\"a\", \"b\" , \"c\"}\n",
    "set2 = {1, 2, 3}\n",
    "\n",
    "#new set\n",
    "set3 = set1.union(set2)\n",
    "print(set3)"
   ]
  },
  {
   "cell_type": "code",
   "execution_count": 42,
   "id": "d5d5c7f2",
   "metadata": {},
   "outputs": [
    {
     "name": "stdout",
     "output_type": "stream",
     "text": [
      "{4, 5}\n"
     ]
    }
   ],
   "source": [
    "#16\n",
    "\n",
    "A = {1, 2, 3, 4, 5}\n",
    "B = {4, 5, 6, 7, 8}\n",
    "\n",
    "\n",
    "Newset=A.intersection(B)\n",
    "\n",
    "print(Newset)"
   ]
  },
  {
   "cell_type": "code",
   "execution_count": 38,
   "id": "fb074bda",
   "metadata": {},
   "outputs": [
    {
     "name": "stdout",
     "output_type": "stream",
     "text": [
      "3\n"
     ]
    }
   ],
   "source": [
    "#17\n",
    "set1 = {\"a\", \"b\" , \"c\"}\n",
    "print(len(set1))"
   ]
  },
  {
   "cell_type": "code",
   "execution_count": 44,
   "id": "e3058984",
   "metadata": {},
   "outputs": [
    {
     "name": "stdout",
     "output_type": "stream",
     "text": [
      "{'c', 'd', 'a', 'b'}\n"
     ]
    }
   ],
   "source": [
    "#18\n",
    "set1 = {\"a\", \"b\" , \"c\"}\n",
    "set1.add('d')\n",
    "set1.remove('d')\n",
    "print(set1)"
   ]
  },
  {
   "cell_type": "code",
   "execution_count": 47,
   "id": "62a6c4cd",
   "metadata": {},
   "outputs": [
    {
     "name": "stdout",
     "output_type": "stream",
     "text": [
      "set()\n"
     ]
    }
   ],
   "source": [
    "#19\n",
    "set1 = {\"a\", \"b\" , \"c\"}\n",
    "set1.clear()\n",
    "print(set1)"
   ]
  },
  {
   "cell_type": "code",
   "execution_count": 48,
   "id": "3222edef",
   "metadata": {},
   "outputs": [],
   "source": [
    "#20\n",
    "set1 = {\"a\", \"b\" , \"c\"}\n",
    "del set1"
   ]
  },
  {
   "cell_type": "code",
   "execution_count": 49,
   "id": "d06e410e",
   "metadata": {},
   "outputs": [
    {
     "name": "stdout",
     "output_type": "stream",
     "text": [
      "espresso 72\n",
      "latte 56\n",
      "cappuccino 54\n",
      "americano 48\n",
      "cortado 41\n"
     ]
    }
   ],
   "source": [
    "#21\n",
    "orders = {\n",
    "\t'cappuccino': 54,\n",
    "\t'latte': 56,\n",
    "\t'espresso': 72,\n",
    "\t'americano': 48,\n",
    "\t'cortado': 41\n",
    "}\n",
    "\n",
    "sort_orders = sorted(orders.items(), key=lambda x: x[1], reverse=True)\n",
    "\n",
    "for i in sort_orders:\n",
    "\tprint(i[0], i[1])"
   ]
  },
  {
   "cell_type": "code",
   "execution_count": 53,
   "id": "d9bc298b",
   "metadata": {},
   "outputs": [
    {
     "name": "stdout",
     "output_type": "stream",
     "text": [
      "Key is present in the dictionary\n",
      "Key is not present in the dictionary\n"
     ]
    }
   ],
   "source": [
    "#22\n",
    "d = {1: 10, 2: 20, 3: 30, 4: 40, 5: 50, 6: 60}\n",
    "def is_key_present(x):\n",
    "  if x in d:\n",
    "      print('Key is present in the dictionary')\n",
    "  else:\n",
    "      print('Key is not present in the dictionary')\n",
    "is_key_present(5)\n",
    "is_key_present(7)"
   ]
  },
  {
   "cell_type": "code",
   "execution_count": 55,
   "id": "219010f9",
   "metadata": {},
   "outputs": [
    {
     "name": "stdout",
     "output_type": "stream",
     "text": [
      "No, Value: '44' does not exists in dictionary\n"
     ]
    }
   ],
   "source": [
    "#23\n",
    "word_freq = {\n",
    "    \"Hello\": 56,\n",
    "    \"at\": 23,\n",
    "    \"test\": 43,\n",
    "    \"this\": 78\n",
    "}\n",
    "value = 44\n",
    "# python check if value exist in dict using \"in\" & values()\n",
    "if value in word_freq.values():\n",
    "    print(f\"Yes, Value: '{value}' exists in dictionary\")\n",
    "else:\n",
    "    print(f\"No, Value: '{value}' does not exists in dictionary\")"
   ]
  },
  {
   "cell_type": "code",
   "execution_count": 56,
   "id": "393c6d7a",
   "metadata": {},
   "outputs": [
    {
     "name": "stdout",
     "output_type": "stream",
     "text": [
      "52\n",
      "E\n",
      "126\n",
      "A\n",
      "134\n",
      "B\n",
      "188\n",
      "C\n",
      "189\n",
      "D\n"
     ]
    }
   ],
   "source": [
    "#24\n",
    "dictionary = {52:\"E\",126:\"A\",134:\"B\",188:\"C\",189:\"D\"}\n",
    "for key, value in dictionary.items():\n",
    "\tprint(key)\n",
    "\tprint(value)"
   ]
  },
  {
   "cell_type": "code",
   "execution_count": 57,
   "id": "7fdceb99",
   "metadata": {},
   "outputs": [
    {
     "name": "stdout",
     "output_type": "stream",
     "text": [
      "color - blue\n",
      "fruit - apple\n",
      "pet - dog\n"
     ]
    }
   ],
   "source": [
    "#24\n",
    "a_dict = {'color': 'blue', 'fruit': 'apple', 'pet': 'dog'}\n",
    "for key, value in a_dict.items():\n",
    "  print(key, '-', value)"
   ]
  },
  {
   "cell_type": "code",
   "execution_count": 59,
   "id": "4e334c3a",
   "metadata": {},
   "outputs": [
    {
     "name": "stdout",
     "output_type": "stream",
     "text": [
      "None\n",
      "{'d': 6, 'c': 4, 'a': 10, 'b': 8}\n"
     ]
    }
   ],
   "source": [
    "#25\n",
    "\n",
    "def Merge(dict1, dict2):\n",
    "    return(dict2.update(dict1))\n",
    "     \n",
    "\n",
    "dict1 = {'a': 10, 'b': 8}\n",
    "dict2 = {'d': 6, 'c': 4}\n",
    " \n",
    "\n",
    "print(Merge(dict1, dict2))\n",
    " \n",
    "\n",
    "print(dict2)"
   ]
  },
  {
   "cell_type": "code",
   "execution_count": 60,
   "id": "e07fbb64",
   "metadata": {},
   "outputs": [
    {
     "name": "stdout",
     "output_type": "stream",
     "text": [
      "{'a': 10, 'b': 8, 'd': 6, 'c': 4}\n"
     ]
    }
   ],
   "source": [
    "#25\n",
    "\n",
    "def Merge(dict1, dict2):\n",
    "    res = {**dict1, **dict2}\n",
    "    return res\n",
    "     \n",
    "\n",
    "dict1 = {'a': 10, 'b': 8}\n",
    "dict2 = {'d': 6, 'c': 4}\n",
    "dict3 = Merge(dict1, dict2)\n",
    "print(dict3)"
   ]
  },
  {
   "cell_type": "code",
   "execution_count": 65,
   "id": "eb9641b0",
   "metadata": {},
   "outputs": [
    {
     "name": "stdout",
     "output_type": "stream",
     "text": [
      "{'Name': ['Guru'], 'Address': ['Mumbai'], 'Age': [30]}\n"
     ]
    }
   ],
   "source": [
    "#26\n",
    "my_dict = {\"Name\":[],\"Address\":[],\"Age\":[]};\n",
    "\n",
    "my_dict[\"Name\"].append(\"Guru\")\n",
    "my_dict[\"Address\"].append(\"Mumbai\")\n",
    "my_dict[\"Age\"].append(30)\t\n",
    "print(my_dict)"
   ]
  },
  {
   "cell_type": "code",
   "execution_count": 66,
   "id": "7bfa2336",
   "metadata": {},
   "outputs": [
    {
     "name": "stdout",
     "output_type": "stream",
     "text": [
      "150\n"
     ]
    }
   ],
   "source": [
    "#26\n",
    "dict1={\n",
    "    4:60,\n",
    "    5:50,\n",
    "    6:40\n",
    "}\n",
    "values=dict1.values()\n",
    "total=sum(values)\n",
    "print(total)"
   ]
  },
  {
   "cell_type": "code",
   "execution_count": 67,
   "id": "75c1b6aa",
   "metadata": {},
   "outputs": [
    {
     "name": "stdout",
     "output_type": "stream",
     "text": [
      "{'a': 300, 'd': 400, 'e': 300, 'b': 200, 'c': 300}\n"
     ]
    }
   ],
   "source": [
    "#26\n",
    "d1={\"a\":100, \"b\":200, \"c\":300}\n",
    "d2={\"a\":200, \"d\":400, \"e\":300}\n",
    "for key in d1:\n",
    "    if key in d2:\n",
    "        d2[key]=d1[key]+d2[key]\n",
    "    else:\n",
    "        d2[key]=d1[key]\n",
    "print(d2)        "
   ]
  },
  {
   "cell_type": "code",
   "execution_count": null,
   "id": "a92cd81b",
   "metadata": {},
   "outputs": [],
   "source": []
  }
 ],
 "metadata": {
  "kernelspec": {
   "display_name": "Python 3",
   "language": "python",
   "name": "python3"
  },
  "language_info": {
   "codemirror_mode": {
    "name": "ipython",
    "version": 3
   },
   "file_extension": ".py",
   "mimetype": "text/x-python",
   "name": "python",
   "nbconvert_exporter": "python",
   "pygments_lexer": "ipython3",
   "version": "3.8.8"
  }
 },
 "nbformat": 4,
 "nbformat_minor": 5
}
